{
 "cells": [
  {
   "cell_type": "code",
   "execution_count": null,
   "metadata": {
    "collapsed": false
   },
   "outputs": [],
   "source": [
    "import warnings\n",
    "\n",
    "import pandas as pd\n",
    "import numpy as np\n",
    "from matplotlib import pyplot as plt\n",
    "from Functions import pmfg\n",
    "import seaborn as sns\n",
    "\n",
    "import Classes\n",
    "\n",
    "warnings.filterwarnings('ignore')\n",
    "%matplotlib inline\n",
    "\n",
    "\n",
    "df = pd.read_excel(\"Credit risk exposures and exposures to sovereigns a.xlsx\", \n",
    "                   header=1, index_col=0)\n",
    "df = df.iloc[:, 0:8]\n",
    "df = df.drop(\"4. Total retail\", axis = 1)\n",
    "df.columns = [\"1_Sov\", \"2_Fin\", \"3_Corp\", \"4-1_Ret_Res\", \"4-2_Ret_Rev\", \"4-3_Ret_SME\", \"5_CRE\"]\n",
    "\n",
    "\n",
    "bank_names_df = pd.read_csv(\"BankCodes.csv\", index_col=0).iloc[:, 0].to_frame(\"Name\")\n",
    "bank_cap_df = pd.read_excel(\"Tier-1 CRs 2010.xlsx\", \n",
    "                       header=2, index_col=1).iloc[:, 1].to_frame(\"Capital\")\n",
    "df = pd.concat([df, bank_names_df, bank_cap_df], axis=1)\n",
    "\n",
    "sd_df = pd.read_excel(\"EU_SOV_Debt_Bank_Net_2011.xlsx\", header=0, index_col=0).T\n",
    "sd_df.loc[:, u\"XX\"] = np.maximum(df.iloc[:, 0] - sd_df.apply(np.sum, axis=1), 0)\n",
    "sd_df.columns = sd_df.columns.rename(\"SD_Name\")\n",
    "sd_names = [sd.encode('ascii', 'ignore') for sd in sd_df.columns]\n",
    "\n",
    "\n",
    "spread = [20, 55, 60, 130, 30, 5, 15, 40, 115, 10, 40, 25, 1400, 80, 315, 35,\n",
    "          100, 20, 55, 40, 55, 50, 100, 20, 10, 50, 400, 70, 10, 30, 25, 20, 50]\n",
    "spread_df = pd.DataFrame(data=spread, index=sd_names, columns=[\"spread\"])\n",
    "spread_df.loc[:, \"Q\"] = spread_df.loc[:, \"spread\"].apply(Classes.Q)\n",
    "\n",
    "geo_df = sd_df.div(sd_df.apply(np.sum, axis=1), axis=0)"
   ]
  },
  {
   "cell_type": "code",
   "execution_count": null,
   "metadata": {
    "collapsed": false
   },
   "outputs": [],
   "source": [
    "world = Classes.World(df, geo_df, spread_df, 0.4, Classes.RiskWeights(\"min\"))\n",
    "assets = world.getAssets()\n",
    "banks = world.getBanks()\n",
    "\n",
    "evo_a, evo_b = world.runShock(banks, assets, \"fin\", [\"DE\", \"FR\"], 1.25)\n",
    "evo_b.filter(like=\"R_\").T.plot(figsize=(6,10), legend=False)"
   ]
  },
  {
   "cell_type": "code",
   "execution_count": null,
   "metadata": {
    "collapsed": false,
    "scrolled": false
   },
   "outputs": [],
   "source": [
    "world = Classes.World(df, geo_df, spread_df, 0.8, Classes.RiskWeights(\"min\"))\n",
    "assets = world.getAssets()\n",
    "banks = world.getBanks()\n",
    "\n",
    "evo_a, evo_b = world.runShock(banks, assets, \"fin\", [\"DE\", \"FR\"], 1.25)\n",
    "evo_b.filter(like=\"R_\").T.plot(figsize=(6,10), legend=False)"
   ]
  },
  {
   "cell_type": "code",
   "execution_count": null,
   "metadata": {
    "collapsed": false
   },
   "outputs": [],
   "source": [
    "evo_a.filter(like=\"r_\").T.plot(figsize=(6,10), legend=False)"
   ]
  },
  {
   "cell_type": "code",
   "execution_count": null,
   "metadata": {
    "collapsed": false
   },
   "outputs": [],
   "source": [
    "world = Classes.World(df, geo_df, spread_df, 0.4, Classes.RiskWeights(\"min\"))\n",
    "assets = world.getAssets()\n",
    "banks = world.getBanks()\n",
    "\n",
    "evo_a, evo_b = world.runShock(banks, assets, \"sov\", [\"DE\", \"FR\"], 50)\n",
    "evo_b.filter(like=\"R_\").T.plot(figsize=(6,10), legend=False)"
   ]
  },
  {
   "cell_type": "code",
   "execution_count": null,
   "metadata": {
    "collapsed": false
   },
   "outputs": [],
   "source": [
    "world = Classes.World(df, geo_df, spread_df, 0.8, Classes.RiskWeights(\"min\"))\n",
    "assets = world.getAssets()\n",
    "banks = world.getBanks()\n",
    "\n",
    "evo_a, evo_b = world.runShock(banks, assets, \"sov\", [\"DE\", \"FR\"], 50)\n",
    "evo_b.filter(like=\"R_\").T.plot(figsize=(6,10), legend=False)"
   ]
  },
  {
   "cell_type": "code",
   "execution_count": null,
   "metadata": {
    "collapsed": false
   },
   "outputs": [],
   "source": [
    "world = Classes.World(df, geo_df, spread_df, 0.4, Classes.RiskWeights(\"min\"))\n",
    "assets = world.getAssets()\n",
    "banks = world.getBanks()\n",
    "\n",
    "evo_a, evo_b = world.runShock(banks, assets, \"sov\", [\"GR\", \"PT\"], 50)\n",
    "evo_b.filter(like=\"R_\").T.plot(figsize=(6,10), legend=False)"
   ]
  },
  {
   "cell_type": "code",
   "execution_count": null,
   "metadata": {
    "collapsed": false,
    "scrolled": false
   },
   "outputs": [],
   "source": [
    "world = Classes.World(df, geo_df, spread_df, 0.8, Classes.RiskWeights(\"min\"))\n",
    "assets = world.getAssets()\n",
    "banks = world.getBanks()\n",
    "\n",
    "evo_a, evo_b = world.runShock(banks, assets, \"sov\", [\"GR\", \"PT\"], 50)\n",
    "evo_b.filter(like=\"R_\").T.plot(figsize=(6,10), legend=False)"
   ]
  },
  {
   "cell_type": "markdown",
   "metadata": {},
   "source": [
    "Increase of the risk factors when we shock sov debt in GR, PT, and it spreads highly to other sectors"
   ]
  },
  {
   "cell_type": "code",
   "execution_count": null,
   "metadata": {
    "collapsed": false
   },
   "outputs": [],
   "source": [
    "evo_a.filter(like=\"r_\").T.plot(figsize=(6,10), legend=False)"
   ]
  },
  {
   "cell_type": "code",
   "execution_count": null,
   "metadata": {
    "collapsed": true
   },
   "outputs": [],
   "source": [
    "world = Classes.World(df, geo_df, spread_df, 0.8, Classes.RiskWeights(\"min\"))\n",
    "assets = world.getAssets()\n",
    "banks = world.getBanks()\n",
    "\n",
    "evo_a, evo_b = world.runShock(banks, assets, \"fin\", [\"DE\", \"FR\"], 1.25)"
   ]
  },
  {
   "cell_type": "code",
   "execution_count": null,
   "metadata": {
    "collapsed": false
   },
   "outputs": [],
   "source": [
    "res = []\n",
    "for sp in np.arange(0.1, 1.1, 0.1):\n",
    "    for sh in np.arange(1.25, 4.25, 0.25):\n",
    "        world = Classes.World(df, geo_df, spread_df, sp, Classes.RiskWeights(\"min\"))\n",
    "        assets = world.getAssets()\n",
    "        banks = world.getBanks()\n",
    "        evo_a, evo_b = world.runShock(banks, assets, \"fin\", [\"DE\", \"FR\"], sh)\n",
    "        res.append(\n",
    "            [sp, sh, 1 - np.mean(evo_b.filter(like=\"R\").iloc[:,-1])/np.mean(evo_b.filter(like=\"R\").iloc[:,0])])"
   ]
  },
  {
   "cell_type": "code",
   "execution_count": null,
   "metadata": {
    "collapsed": false
   },
   "outputs": [],
   "source": [
    "x_df = pd.DataFrame(data=res, columns=[\"sp\", \"sh\", \"x\"])\n",
    "x_df.plot(kind='scatter', x='sp', y='x')"
   ]
  },
  {
   "cell_type": "code",
   "execution_count": null,
   "metadata": {
    "collapsed": true
   },
   "outputs": [],
   "source": []
  }
 ],
 "metadata": {
  "kernelspec": {
   "display_name": "Python 2",
   "language": "python",
   "name": "python2"
  },
  "language_info": {
   "codemirror_mode": {
    "name": "ipython",
    "version": 2
   },
   "file_extension": ".py",
   "mimetype": "text/x-python",
   "name": "python",
   "nbconvert_exporter": "python",
   "pygments_lexer": "ipython2",
   "version": "2.7.13"
  }
 },
 "nbformat": 4,
 "nbformat_minor": 0
}
